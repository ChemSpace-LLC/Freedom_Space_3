{
 "cells": [
  {
   "cell_type": "code",
   "execution_count": 2,
   "id": "0f33db73",
   "metadata": {},
   "outputs": [],
   "source": [
    "import pandas as pd\n",
    "import numpy as np\n",
    "from rdkit import Chem\n",
    "from SAscore.sascorer import calculateScore\n",
    "from RAscore.RAscore_NN import RAScorerNN\n",
    "import os"
   ]
  },
  {
   "cell_type": "code",
   "execution_count": null,
   "id": "9911d9fa",
   "metadata": {},
   "outputs": [
   ],
   "source": [
    "# Initialize the RA scorer\n",
    "model_path = os.path.join(\"RAscore\", \"model\", \"DNN_chembl_fcfp_counts\", \"model.h5\")\n",
    "nn_scorer = RAScorerNN(model_path=model_path)\n",
    "\n",
    "def compute_sa_score(smiles):\n",
    "    \"\"\"\n",
    "    Compute the synthetic accessibility score.\n",
    "    Returns None if the SMILES is invalid.\n",
    "    \"\"\"\n",
    "    mol = Chem.MolFromSmiles(smiles)\n",
    "    if mol is None:\n",
    "        return None\n",
    "    return calculateScore(mol)\n",
    "\n",
    "def compute_ra_score(smiles):\n",
    "    \"\"\"\n",
    "    Compute the ML-based retrosynthetic accessibility score.\n",
    "    Returns None if prediction fails.\n",
    "    \"\"\"\n",
    "    try:\n",
    "        return nn_scorer.predict(smiles)\n",
    "    except Exception as e:\n",
    "        print(f\"RA prediction failed for: {smiles} | Error: {e}\")\n",
    "        return None\n",
    "\n",
    "input_path = \"1K_SMILES.csv\"\n",
    "df = pd.read_csv(input_path)\n"
   ]
  },
  {
   "cell_type": "code",
   "execution_count": 5,
   "id": "d2983143",
   "metadata": {},
   "outputs": [],
   "source": [
    "# Apply SA scoring\n",
    "df['SA_score'] = df['SMILES'].apply(compute_sa_score)"
   ]
  },
  {
   "cell_type": "code",
   "execution_count": null,
   "id": "b332f281",
   "metadata": {},
   "outputs": [],
   "source": [
    "# Apply RA scoring\n",
    "df['RA_score'] = df['SMILES'].apply(compute_ra_score)"
   ]
  },
  {
   "cell_type": "code",
   "execution_count": null,
   "id": "4daafecc",
   "metadata": {},
   "outputs": [],
   "source": [
    "# Save to CSV (optional)\n",
    "df.to_csv(\"1K_SMILES_SA_RA.csv\", index=False)"
   ]
  }
 ],
 "metadata": {
  "kernelspec": {
   "display_name": "main_env",
   "language": "python",
   "name": "python3"
  },
  "language_info": {
   "codemirror_mode": {
    "name": "ipython",
    "version": 3
   },
   "file_extension": ".py",
   "mimetype": "text/x-python",
   "name": "python",
   "nbconvert_exporter": "python",
   "pygments_lexer": "ipython3",
   "version": "3.12.7"
  }
 },
 "nbformat": 4,
 "nbformat_minor": 5
}
